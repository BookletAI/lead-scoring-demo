{
 "cells": [
  {
   "cell_type": "code",
   "execution_count": null,
   "metadata": {
    "collapsed": true
   },
   "outputs": [],
   "source": [
    "import requests\n",
    "\n",
    "import boto3\n",
    "import mlflow\n",
    "from mlflow import pyfunc as ml_pyfunc\n",
    "import pandas as pd\n",
    "from sklearn.ensemble import RandomForestClassifier\n",
    "from sklearn.model_selection import train_test_split\n",
    "from sklearn.preprocessing import StandardScaler\n",
    "from sklearn import metrics"
   ]
  },
  {
   "cell_type": "code",
   "execution_count": null,
   "metadata": {
    "collapsed": true
   },
   "outputs": [],
   "source": [
    "########################################################\n",
    "### Import Dataset\n",
    "########################################################"
   ]
  },
  {
   "cell_type": "code",
   "execution_count": null,
   "metadata": {
    "collapsed": true
   },
   "outputs": [],
   "source": [
    "## Import dataset\n",
    "leads_dataset = pd.read_csv('data/leads_cleaned.csv')\n",
    "leads_dataset.columns = map(str.lower, leads_dataset.columns)"
   ]
  },
  {
   "cell_type": "code",
   "execution_count": null,
   "metadata": {
    "collapsed": true
   },
   "outputs": [],
   "source": [
    "########################################################\n",
    "### Clean and Prepare Data\n",
    "########################################################"
   ]
  },
  {
   "cell_type": "code",
   "execution_count": null,
   "metadata": {
    "collapsed": true
   },
   "outputs": [],
   "source": [
    "# Create data pre-processing steps before plugging into model\n",
    "leads_categorical_columns = ['lead origin',\n",
    "                             'lead source',\n",
    "                             'last activity',\n",
    "                             'specialization',\n",
    "                             'what is your current occupation',\n",
    "                             'what matters most to you in choosing a course',\n",
    "                             'city',\n",
    "                             'last notable activity']\n",
    "\n",
    "leads_numeric_columns = ['totalvisits',\n",
    "                         'total time spent on website',\n",
    "                         'page views per visit']\n",
    "\n",
    "leads_response_columns = ['converted']"
   ]
  },
  {
   "cell_type": "code",
   "execution_count": null,
   "metadata": {
    "collapsed": true
   },
   "outputs": [],
   "source": [
    "#split data for training, remove extras\n",
    "\n",
    "leads_x = leads_dataset.drop(leads_response_columns, axis=1)\n",
    "leads_y = leads_dataset[leads_response_columns]\n",
    "\n",
    "leads_x_train, leads_x_test, leads_y_train, leads_y_test = train_test_split(leads_x,\n",
    "                                                                            leads_y,\n",
    "                                                                            train_size=0.7,\n",
    "                                                                            test_size=0.3,\n",
    "                                                                            random_state=5050)"
   ]
  },
  {
   "cell_type": "code",
   "execution_count": null,
   "metadata": {
    "collapsed": true
   },
   "outputs": [],
   "source": [
    "scaler = StandardScaler()\n",
    "scaler = scaler.fit(leads_x_train[leads_numeric_columns])"
   ]
  },
  {
   "cell_type": "code",
   "execution_count": null,
   "metadata": {
    "collapsed": true
   },
   "outputs": [],
   "source": [
    "def pre_process_leads_data(df,\n",
    "                           numeric_columns,\n",
    "                           categorical_columns,\n",
    "                           fitted_scaler,\n",
    "                           train_df_columns = None):\n",
    "    ## create new df with selected columns\n",
    "    df.columns = map(str.lower, df.columns)\n",
    "    _df = df[set(numeric_columns + categorical_columns)].copy()\n",
    "    \n",
    "    ## scale the numeric columns with the pre-built scaler\n",
    "    _df[numeric_columns] = fitted_scaler.transform(_df[numeric_columns])\n",
    "         \n",
    "    # First, make categorical text lowercase\n",
    "    _df[categorical_columns] = _df[categorical_columns].apply(lambda x: x.str.lower())\n",
    "    # Next, create one-hot-encoded variables, add to dataframe, drop old columns\n",
    "    _df_dummies = pd.get_dummies(_df[categorical_columns], drop_first=True)\n",
    "    _df = pd.concat([_df, _df_dummies], axis=1)\n",
    "    _df.drop(categorical_columns, axis=1, inplace = True)\n",
    "\n",
    "    if train_df_columns:\n",
    "        _df = _df.reindex(columns=train_df_columns, fill_value=0)\n",
    "\n",
    "    return _df"
   ]
  },
  {
   "cell_type": "code",
   "execution_count": null,
   "metadata": {
    "collapsed": true
   },
   "outputs": [],
   "source": [
    "leads_x_train_clean = pre_process_leads_data(df = leads_x_train,\n",
    "                                            numeric_columns = leads_numeric_columns,\n",
    "                                            categorical_columns = leads_categorical_columns,\n",
    "                                            fitted_scaler = scaler)\n",
    "\n",
    "leads_x_test_clean = pre_process_leads_data(df = leads_x_test,\n",
    "                                           numeric_columns = leads_numeric_columns,\n",
    "                                           categorical_columns = leads_categorical_columns,\n",
    "                                           fitted_scaler = scaler,\n",
    "                                           train_df_columns = leads_x_train_clean.columns.tolist())"
   ]
  },
  {
   "cell_type": "code",
   "execution_count": null,
   "metadata": {
    "collapsed": true
   },
   "outputs": [],
   "source": [
    "########################################################\n",
    "### Train and Evaluate Model\n",
    "########################################################"
   ]
  },
  {
   "cell_type": "code",
   "execution_count": null,
   "metadata": {},
   "outputs": [],
   "source": [
    "## Train the random forest model\n",
    "num_estimators = 100\n",
    "min_samples = 4\n",
    "\n",
    "rf = RandomForestClassifier(n_estimators=num_estimators,\n",
    "                            min_samples_split=min_samples)\n",
    "rf.fit(leads_x_train_clean, leads_y_train.values.ravel())"
   ]
  },
  {
   "cell_type": "code",
   "execution_count": null,
   "metadata": {},
   "outputs": [],
   "source": [
    "leads_y_test_predicted = rf.predict(leads_x_test_clean)\n",
    "\n",
    "accuracy = metrics.accuracy_score(leads_y_test, leads_y_test_predicted)\n",
    "auc_score = metrics.roc_auc_score(leads_y_test, leads_y_test_predicted)\n",
    "\n",
    "print(accuracy)\n",
    "print(auc_score)"
   ]
  },
  {
   "cell_type": "code",
   "execution_count": null,
   "metadata": {
    "collapsed": true
   },
   "outputs": [],
   "source": [
    "########################################################\n",
    "### MLflow and environment setup\n",
    "########################################################"
   ]
  },
  {
   "cell_type": "code",
   "execution_count": null,
   "metadata": {},
   "outputs": [],
   "source": [
    "# connect to MLflow\n",
    "mlflow.set_tracking_uri(\"http://localhost:5000\")\n",
    "mlflow.set_experiment(\"LeadScoringProcessed\") # creates an experiment if it doesn't exist"
   ]
  },
  {
   "cell_type": "code",
   "execution_count": null,
   "metadata": {
    "collapsed": true
   },
   "outputs": [],
   "source": [
    "# define specific python and package versions for environment\n",
    "mlflow_conda_env = {\n",
    " 'name': 'mlflow-env',\n",
    " 'channels': ['defaults'],\n",
    " 'dependencies': ['python=3.8.2', {'pip': ['mlflow==1.8.0','scikit-learn==0.23.1','cloudpickle==1.4.1']}]\n",
    "}"
   ]
  },
  {
   "cell_type": "code",
   "execution_count": null,
   "metadata": {
    "collapsed": true
   },
   "outputs": [],
   "source": [
    "########################################################\n",
    "### Define Model\n",
    "########################################################"
   ]
  },
  {
   "cell_type": "code",
   "execution_count": null,
   "metadata": {
    "collapsed": true
   },
   "outputs": [],
   "source": [
    "class leadsModel(mlflow.pyfunc.PythonModel):\n",
    "   \n",
    "    ## defining objects needed for leadsModel prediction. \n",
    "    def __init__(self,\n",
    "                 train_df_columns,\n",
    "                 model,\n",
    "                 leads_categorical_columns,\n",
    "                 leads_numeric_columns,\n",
    "                 fitted_scaler,\n",
    "                 pre_process_leads_data):\n",
    "        \n",
    "        ## Setting up all needed objects\n",
    "        self.train_df_columns = train_df_columns\n",
    "        self.model = model\n",
    "        self.leads_categorical_columns = leads_categorical_columns\n",
    "        self.leads_numeric_columns = leads_numeric_columns\n",
    "        self.fitted_scaler = fitted_scaler\n",
    "        self.pre_process_leads_data = pre_process_leads_data\n",
    "    \n",
    "    ## define function with processing and feeding data into prediction at the end\n",
    "    def predict(self,context,model_input):\n",
    "        \n",
    "        # make sure all inputted columns are lowercase\n",
    "        model_input.columns = map(str.lower, model_input.columns)\n",
    "        \n",
    "        # run inputted dataset through our processing function\n",
    "        # note: we are excluding the response columns here since not needed for deploy\n",
    "        model_input_processed = self.pre_process_leads_data(\n",
    "                                   df = model_input,\n",
    "                                   numeric_columns = self.leads_numeric_columns,\n",
    "                                   categorical_columns = self.leads_categorical_columns,\n",
    "                                   fitted_scaler = self.fitted_scaler,\n",
    "                                   train_df_columns = self.train_df_columns)       \n",
    "        \n",
    "        # finally input the cleaned/adjusted dataset into our model for prediction\n",
    "        return self.model.predict(model_input_processed)"
   ]
  },
  {
   "cell_type": "code",
   "execution_count": null,
   "metadata": {},
   "outputs": [],
   "source": [
    "# Testing the prediction class before pushing to MLflow\n",
    "m = leadsModel(train_df_columns = leads_x_train_clean.columns.tolist(),\n",
    "                                  model = rf,\n",
    "                                  leads_categorical_columns = leads_categorical_columns,\n",
    "                                  leads_numeric_columns = leads_numeric_columns,\n",
    "                                  fitted_scaler = scaler,\n",
    "                                  pre_process_leads_data = pre_process_leads_data)\n",
    "model_input = leads_x.head(1)\n",
    "model_output = m.predict(None,model_input)\n",
    "print(model_output)"
   ]
  },
  {
   "cell_type": "code",
   "execution_count": null,
   "metadata": {
    "collapsed": true
   },
   "outputs": [],
   "source": [
    "########################################################\n",
    "### Log Model to MLflow\n",
    "########################################################"
   ]
  },
  {
   "cell_type": "code",
   "execution_count": null,
   "metadata": {
    "collapsed": true
   },
   "outputs": [],
   "source": [
    "# start mlflow run, log parameters, metrics, and the model\n",
    "with mlflow.start_run(run_name=\"Leads Model with Processing\") as run:\n",
    "    # log the parameters that we defined for the model training\n",
    "    mlflow.log_param(\"num_estimators\", num_estimators)\n",
    "    mlflow.log_param(\"min_samples\", min_samples)\n",
    "    \n",
    "    # log the performance metrics that we calculated earlier\n",
    "    mlflow.log_metric(\"accuracy\", accuracy)\n",
    "    mlflow.log_metric(\"auc_score\", auc_score)\n",
    "    \n",
    "    # log model with all objects referenced in the leadsModel class\n",
    "    ml_pyfunc.log_model(\n",
    "        artifact_path = \"leads_pyfunc\",\n",
    "        python_model = leadsModel(train_df_columns = leads_x_train_clean.columns.tolist(),\n",
    "                                  model = rf,\n",
    "                                  leads_categorical_columns = leads_categorical_columns,\n",
    "                                  leads_numeric_columns = leads_numeric_columns,\n",
    "                                  fitted_scaler = scaler,\n",
    "                                  pre_process_leads_data = pre_process_leads_data\n",
    "                                 ),\n",
    "        conda_env = mlflow_conda_env\n",
    "    )\n",
    "    \n",
    "    # save run_id and experiment_id for deployment\n",
    "    run_id = run.info.run_uuid\n",
    "    experiment_id = run.info.experiment_id\n",
    "    \n",
    "    # end the mlflow run!\n",
    "    mlflow.end_run()"
   ]
  },
  {
   "cell_type": "code",
   "execution_count": null,
   "metadata": {
    "collapsed": true
   },
   "outputs": [],
   "source": [
    "########################################################\n",
    "### Test Local Deployment\n",
    "########################################################"
   ]
  },
  {
   "cell_type": "code",
   "execution_count": null,
   "metadata": {},
   "outputs": [],
   "source": [
    "# Run this command in the same directory as MLflow to kick-off a local sagemaker build\n",
    "\n",
    "sagemaker_local_command = 'mlflow sagemaker run-local -m ./mlruns/{experiment_id}/{run_id}/artifacts/leads_pyfunc -p 5001'. \\\n",
    "    format(experiment_id=experiment_id,run_id=run_id)\n",
    "\n",
    "print(sagemaker_local_command)"
   ]
  },
  {
   "cell_type": "code",
   "execution_count": null,
   "metadata": {
    "collapsed": true
   },
   "outputs": [],
   "source": [
    "# Building a function to test out the locally-build sagemaker container\n",
    "def query_local_endpoint(input_json):\n",
    "    response = requests.post('http://localhost:5001/invocations'\n",
    "                           , headers = {'Content-Type': 'application/json'} \n",
    "                           , data=input_json)\n",
    "    print(response)\n",
    "    preds = response.json()\n",
    "    return preds"
   ]
  },
  {
   "cell_type": "code",
   "execution_count": null,
   "metadata": {},
   "outputs": [],
   "source": [
    "# Running a query against the local endpoint and examining the output\n",
    "model_input = leads_x.head(1)\n",
    "output=query_local_endpoint(model_input.to_json(orient=\"split\"))\n",
    "print(output)"
   ]
  },
  {
   "cell_type": "code",
   "execution_count": null,
   "metadata": {
    "collapsed": true
   },
   "outputs": [],
   "source": [
    "########################################################\n",
    "### Deploy Model to Sagemaker\n",
    "########################################################"
   ]
  },
  {
   "cell_type": "code",
   "execution_count": null,
   "metadata": {
    "collapsed": true
   },
   "outputs": [],
   "source": [
    "## Note: this requires a MLflow pyfunc docker container to already exist in sagemaker\n",
    "\n",
    "import mlflow.sagemaker as mfs\n",
    "\n",
    "\n",
    "# we pull the run and experiment id's from above to create this mlflow location\n",
    "model_uri = \"mlruns/%s/%s/artifacts/leads_pyfunc\" % (experiment_id,run_id)\n",
    "\n",
    "# The region is chosen, pick whats close to you or your systems!\n",
    "region = \"us-east-1\"\n",
    "# The aws account id can be found in the console\n",
    "aws_account_id = \"XXXXXXX\"\n",
    "# We use these inputs to automatically reference the sagemaker docker container\n",
    "image_url = aws_account_id \\\n",
    "            + \".dkr.ecr.\" \\\n",
    "            + region \\\n",
    "            + \".amazonaws.com/mlflow-pyfunc:1.5.0\"\n",
    "\n",
    "# now we specify the role that we setup for sagemaker in the previous step\n",
    "sagemaker_arn = \"arn:aws:iam::\"+aws_account_id+\":role/AmazonSageMakerFullAccess\"\n",
    "\n",
    "\n",
    "# finally, we pick a name for our endpoint within sagemaker\n",
    "endpoint_name = \"lead-rf-1\" \n",
    "\n",
    "\n",
    "# with all of the inputs, we run the following to deploy the model it sagemaker\n",
    "mfs.deploy(app_name=endpoint_name, \n",
    "           model_uri=model_uri,\n",
    "           region_name=region,\n",
    "           mode=\"create\", #this should change to replace if the endpoint already exists\n",
    "           execution_role_arn=sagemaker_arn,\n",
    "           image_url=image_url, \n",
    "           instance_type='ml.t2.medium') # smallest/cheapest sagemaker allowed size"
   ]
  },
  {
   "cell_type": "code",
   "execution_count": null,
   "metadata": {
    "collapsed": true
   },
   "outputs": [],
   "source": []
  }
 ],
 "metadata": {
  "kernelspec": {
   "display_name": "lead-scoring",
   "language": "python",
   "name": "lead-scoring"
  },
  "language_info": {
   "codemirror_mode": {
    "name": "ipython",
    "version": 3
   },
   "file_extension": ".py",
   "mimetype": "text/x-python",
   "name": "python",
   "nbconvert_exporter": "python",
   "pygments_lexer": "ipython3",
   "version": "3.8.2"
  }
 },
 "nbformat": 4,
 "nbformat_minor": 2
}
